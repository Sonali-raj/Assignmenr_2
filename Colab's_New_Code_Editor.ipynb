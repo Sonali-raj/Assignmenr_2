{
  "cells": [
    {
      "cell_type": "markdown",
      "metadata": {
        "id": "view-in-github",
        "colab_type": "text"
      },
      "source": [
        "<a href=\"https://colab.research.google.com/github/Sonali-raj/Assignmenr_2/blob/main/Colab's_New_Code_Editor.ipynb\" target=\"_parent\"><img src=\"https://colab.research.google.com/assets/colab-badge.svg\" alt=\"Open In Colab\"/></a>"
      ]
    },
    {
      "cell_type": "markdown",
      "source": [
        "Multiplicative Congruence method for generating Pseudo Random Numbers"
      ],
      "metadata": {
        "id": "p0qpJTNu2bxq"
      }
    },
    {
      "cell_type": "code",
      "source": [
        "def multiplicativeCongruentialMethod(Xo, m, a,\n",
        "                                     randomNums,\n",
        "                                     noOfRandomNums):\n",
        " \n",
        "    # Initialize the seed state\n",
        "    randomNums[0] = Xo\n",
        " \n",
        "    # Traverse to generate required\n",
        "    # numbers of random numbers\n",
        "    for i in range(1, noOfRandomNums):\n",
        "         \n",
        "        # Follow the linear congruential method\n",
        "        randomNums[i] = (randomNums[i - 1] * a) % m\n",
        " \n",
        "\n",
        "     \n",
        "# Seed value\n",
        "Xo = 3\n",
        "     \n",
        "# Modulus parameter\n",
        "m = 15\n",
        "     \n",
        "# Multiplier term\n",
        "a = 7\n",
        " \n",
        "# Number of Random numbers to be generated\n",
        "noOfRandomNums = 10\n",
        " \n",
        "# To store random numbers\n",
        "randomNums = [0] * (noOfRandomNums)\n",
        " \n",
        "# Function Call\n",
        "multiplicativeCongruentialMethod(Xo, m, a, randomNums, noOfRandomNums)\n",
        " \n",
        "# Print the generated random numbers\n",
        "for i in randomNums:\n",
        "    print(i, end = \" \")\n",
        "        "
      ],
      "metadata": {
        "colab": {
          "base_uri": "https://localhost:8080/"
        },
        "id": "Xu1U5B_52Xs-",
        "outputId": "827d3360-cd43-4efb-e77d-922466722ff0"
      },
      "execution_count": 49,
      "outputs": [
        {
          "output_type": "stream",
          "name": "stdout",
          "text": [
            "3 6 12 9 3 6 12 9 3 6 "
          ]
        }
      ]
    },
    {
      "cell_type": "code",
      "source": [
        ""
      ],
      "metadata": {
        "id": "_391889zpdJC"
      },
      "execution_count": null,
      "outputs": []
    },
    {
      "cell_type": "code",
      "source": [
        ""
      ],
      "metadata": {
        "id": "TwLPGq9vpgDT"
      },
      "execution_count": null,
      "outputs": []
    },
    {
      "cell_type": "code",
      "source": [
        ""
      ],
      "metadata": {
        "id": "la-Qgx2IqVmE"
      },
      "execution_count": null,
      "outputs": []
    },
    {
      "cell_type": "code",
      "source": [
        "from scipy.stats import kstest\n",
        "import random\n",
        " \n",
        "\n",
        "N = len(randomNums)\n",
        " \n",
        "actual =[]\n",
        "print(\"Enter outcomes: \")\n",
        "for i in range(N):\n",
        "    # x = float(input(\"Outcomes of class \"+str(i + 1)+\": \"))\n",
        "    actual.append(randomNums[i]/15)\n",
        " \n",
        "print(actual)\n",
        "print()\n",
        "x = kstest(actual, \"uniform\")  \n",
        "\n",
        "print('Test Result: ')\n",
        "print(x)"
      ],
      "metadata": {
        "colab": {
          "base_uri": "https://localhost:8080/"
        },
        "id": "VsAhW4gfEHV0",
        "outputId": "974c962a-4b23-4f55-f85f-9a5ba5d3eead"
      },
      "execution_count": 51,
      "outputs": [
        {
          "output_type": "stream",
          "name": "stdout",
          "text": [
            "Enter outcomes: \n",
            "[0.2, 0.4, 0.8, 0.6, 0.2, 0.4, 0.8, 0.6, 0.2, 0.4]\n",
            "\n",
            "Test Result: \n",
            "KstestResult(statistic=0.20000000000000007, pvalue=0.8186211744710056)\n"
          ]
        }
      ]
    },
    {
      "cell_type": "markdown",
      "source": [
        "KS Test on Multiplicative Congruence"
      ],
      "metadata": {
        "id": "4GZ2LqofXVko"
      }
    },
    {
      "cell_type": "code",
      "source": [
        "import random\n",
        "import math\n",
        "import statistics\n",
        "\n",
        "def runsTest(l, l_median):\n",
        "  \n",
        "    runs, n1, n2 = 0, 0, 0\n",
        "      \n",
        "    # Checking for start of new run\n",
        "    for i in range(len(l)):\n",
        "          \n",
        "        # no. of runs\n",
        "        if (l[i] >= l_median and l[i-1] < l_median) or \\\n",
        "                (l[i] < l_median and l[i-1] >= l_median):\n",
        "            runs += 1  \n",
        "          \n",
        "        # no. of positive values\n",
        "        if(l[i]) >= l_median:\n",
        "            n1 += 1   \n",
        "          \n",
        "        # no. of negative values\n",
        "        else:\n",
        "            n2 += 1   \n",
        "  \n",
        "    runs_exp = ((2*n1*n2)/(n1+n2))+1\n",
        "    stan_dev = math.sqrt((2*n1*n2*(2*n1*n2-n1-n2))/ \\\n",
        "                       (((n1+n2)**2)*(n1+n2-1)))\n",
        "  \n",
        "    z = (runs-runs_exp)/stan_dev\n",
        "  \n",
        "    return z\n",
        "    \n",
        "# Making a list of 100 random numbers \n",
        "l = []\n",
        "for i in range(len(randomNums)):\n",
        "    l.append(randomNums[i]/15)\n",
        "      \n",
        "l_median= statistics.median(l)\n",
        "  \n",
        "Z = abs(runsTest(l, l_median))\n",
        "\n",
        "\n",
        "print(\"Test Result\")  \n",
        "print('Z-statistic= ', Z)"
      ],
      "metadata": {
        "colab": {
          "base_uri": "https://localhost:8080/"
        },
        "id": "o7rggjyCGNic",
        "outputId": "a8ba3d38-f3a0-4734-ab14-b0e03b71e086"
      },
      "execution_count": 52,
      "outputs": [
        {
          "output_type": "stream",
          "name": "stdout",
          "text": [
            "Test Result\n",
            "Z-statistic=  0.654653670707977\n"
          ]
        }
      ]
    },
    {
      "cell_type": "code",
      "source": [
        ""
      ],
      "metadata": {
        "id": "_9Rm3c7KYHZs"
      },
      "execution_count": null,
      "outputs": []
    }
  ],
  "metadata": {
    "colab": {
      "collapsed_sections": [],
      "name": "Colab's New Code Editor",
      "provenance": [],
      "include_colab_link": true
    },
    "kernelspec": {
      "display_name": "Python 3",
      "name": "python3"
    }
  },
  "nbformat": 4,
  "nbformat_minor": 0
}