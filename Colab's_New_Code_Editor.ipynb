{
  "cells": [
    {
      "cell_type": "markdown",
      "metadata": {
        "id": "view-in-github",
        "colab_type": "text"
      },
      "source": [
        "<a href=\"https://colab.research.google.com/github/Sonali-raj/Assignmenr_2/blob/main/Colab's_New_Code_Editor.ipynb\" target=\"_parent\"><img src=\"https://colab.research.google.com/assets/colab-badge.svg\" alt=\"Open In Colab\"/></a>"
      ]
    },
    {
      "cell_type": "markdown",
      "metadata": {
        "id": "aRDUGd13kUFu"
      },
      "source": [
        "# Colab's New Code Editor\n",
        "\n",
        "Colab is moving to a new code editor which includes:\n",
        "* Richer completions\n",
        "* Additional keybinding options\n",
        "* Improved accessibility"
      ]
    },
    {
      "cell_type": "markdown",
      "source": [
        "Linear Congruence method for generating Pseudo Random Numbers"
      ],
      "metadata": {
        "id": "nZYPHh6o2Uj8"
      }
    },
    {
      "cell_type": "code",
      "source": [
        "def linearCongruentialMethod(Xo, m, a, c,\n",
        "                             randomNums,\n",
        "                             noOfRandomNums):\n",
        " \n",
        "    # Initialize the seed state\n",
        "    randomNums[0] = Xo\n",
        " \n",
        "    # Traverse to generate required numbers of random numbers\n",
        "    for i in range(1, noOfRandomNums):\n",
        "         \n",
        "        # Follow the linear congruential method\n",
        "        randomNums[i] = ((randomNums[i - 1] * a) + c) % m\n",
        " \n",
        "# Seed value\n",
        "Xo = 17\n",
        "     \n",
        "# Modulus parameter\n",
        "m = 17\n",
        "     \n",
        "# Multiplier term\n",
        "a = 3\n",
        "     \n",
        "# Increment term\n",
        "c = 3\n",
        " \n",
        "# Number of Random numbers to be generated\n",
        "noOfRandomNums = 15\n",
        " \n",
        "# To store random numbers\n",
        "randomNums = [0] * (noOfRandomNums)\n",
        " \n",
        "# Function Call\n",
        "linearCongruentialMethod(Xo, m, a, c, randomNums, noOfRandomNums)\n",
        " \n",
        "# Print the generated random numbers\n",
        "for i in randomNums:\n",
        "   print(i, end = \" \")\n",
        " \n"
      ],
      "metadata": {
        "colab": {
          "base_uri": "https://localhost:8080/"
        },
        "id": "5hElBq0w2Mo4",
        "outputId": "f7c96a89-94f1-4835-8221-4aa7423fe742"
      },
      "execution_count": 46,
      "outputs": [
        {
          "output_type": "stream",
          "name": "stdout",
          "text": [
            "17 3 12 5 1 6 4 15 14 11 2 9 13 8 10 "
          ]
        }
      ]
    },
    {
      "cell_type": "markdown",
      "source": [
        "KS Test on Linear Congruential Method"
      ],
      "metadata": {
        "id": "Rtwik4PnScpK"
      }
    },
    {
      "cell_type": "code",
      "source": [
        "from scipy.stats import kstest\n",
        "import random\n",
        " \n",
        "\n",
        "N = len(randomNums)\n",
        " \n",
        "actual =[]\n",
        "print(\"Enter outcomes: \")\n",
        "for i in range(N):\n",
        "    # x = float(input(\"Outcomes of class \"+str(i + 1)+\": \"))\n",
        "    actual.append(randomNums[i]/17)\n",
        " \n",
        "print(actual)\n",
        "print()\n",
        "x = kstest(actual, \"uniform\")  \n",
        "\n",
        "print('Test Result: ')\n",
        "print(x)"
      ],
      "metadata": {
        "colab": {
          "base_uri": "https://localhost:8080/"
        },
        "id": "VsAhW4gfEHV0",
        "outputId": "8be3d80c-d422-4eba-afe6-f63bb9aeb879"
      },
      "execution_count": 47,
      "outputs": [
        {
          "output_type": "stream",
          "name": "stdout",
          "text": [
            "Enter outcomes: \n",
            "[1.0, 0.17647058823529413, 0.7058823529411765, 0.29411764705882354, 0.058823529411764705, 0.35294117647058826, 0.23529411764705882, 0.8823529411764706, 0.8235294117647058, 0.6470588235294118, 0.11764705882352941, 0.5294117647058824, 0.7647058823529411, 0.47058823529411764, 0.5882352941176471]\n",
            "\n",
            "Test Result: \n",
            "KstestResult(statistic=0.07058823529411762, pvalue=0.9999993782024098)\n"
          ]
        }
      ]
    },
    {
      "cell_type": "markdown",
      "source": [
        "Runs Test of Randomness in Python"
      ],
      "metadata": {
        "id": "QoI2utn1IBLt"
      }
    },
    {
      "cell_type": "code",
      "source": [
        "# simple code to implement Runs \n",
        "# test of randomnes\n",
        "  \n",
        "import random\n",
        "import math\n",
        "import statistics\n",
        "  \n",
        "  \n",
        "def runsTest(l, l_median):\n",
        "  \n",
        "    runs, n1, n2 = 0, 0, 0\n",
        "      \n",
        "    # Checking for start of new run\n",
        "    for i in range(len(l)):\n",
        "          \n",
        "        # no. of runs\n",
        "        if (l[i] >= l_median and l[i-1] < l_median) or \\\n",
        "                (l[i] < l_median and l[i-1] >= l_median):\n",
        "            runs += 1  \n",
        "          \n",
        "        # no. of positive values\n",
        "        if(l[i]) >= l_median:\n",
        "            n1 += 1   \n",
        "          \n",
        "        # no. of negative values\n",
        "        else:\n",
        "            n2 += 1   \n",
        "  \n",
        "    runs_exp = ((2*n1*n2)/(n1+n2))+1\n",
        "    stan_dev = math.sqrt((2*n1*n2*(2*n1*n2-n1-n2))/ \\\n",
        "                       (((n1+n2)**2)*(n1+n2-1)))\n",
        "  \n",
        "    z = (runs-runs_exp)/stan_dev\n",
        "  \n",
        "    return z\n",
        "    \n",
        "# Making a list of 100 random numbers \n",
        "l = []\n",
        "for i in range(len(randomNums)):\n",
        "    l.append(randomNums[i]/17)\n",
        "      \n",
        "l_median= statistics.median(l)\n",
        "  \n",
        "Z = abs(runsTest(l, l_median))\n",
        "\n",
        "print(\"Test Result:\")  \n",
        "print('Z-statistic= ', Z)"
      ],
      "metadata": {
        "colab": {
          "base_uri": "https://localhost:8080/"
        },
        "id": "3jb8vv35GDsJ",
        "outputId": "02e933a5-1de8-49f3-eaf2-6c1b1b4a2cf0"
      },
      "execution_count": 33,
      "outputs": [
        {
          "output_type": "stream",
          "name": "stdout",
          "text": [
            "Test Result:\n",
            "Z-statistic=  0.2512853555162084\n"
          ]
        }
      ]
    }
  ],
  "metadata": {
    "colab": {
      "collapsed_sections": [],
      "name": "Colab's New Code Editor",
      "provenance": [],
      "include_colab_link": true
    },
    "kernelspec": {
      "display_name": "Python 3",
      "name": "python3"
    }
  },
  "nbformat": 4,
  "nbformat_minor": 0
}